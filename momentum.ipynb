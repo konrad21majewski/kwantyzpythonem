{
 "cells": [
  {
   "cell_type": "code",
   "execution_count": 36,
   "metadata": {},
   "outputs": [],
   "source": [
    "import sympy as sp\n",
    "import numpy as np\n",
    "import matplotlib.pyplot as plt\n",
    "from sympy.utilities import lambdify\n",
    "from matplotlib.animation import FuncAnimation\n",
    "from IPython.display import HTML\n",
    "\n",
    "sp.init_printing()"
   ]
  },
  {
   "cell_type": "code",
   "execution_count": 37,
   "metadata": {},
   "outputs": [
    {
     "data": {
      "image/png": "[encoded data removed]",
      "text/latex": [
       "$\\displaystyle \\left( x, \\  k, \\  a, \\  \\psi{\\left(x \\right)}, \\  n, \\  m, \\  \\hbar, \\  t\\right)$"
      ],
      "text/plain": [
       "(x, k, a, \\psi(x), n, m, h̅, t)"
      ]
     },
     "execution_count": 37,
     "metadata": {},
     "output_type": "execute_result"
    }
   ],
   "source": [
    "x = sp.Symbol('x', real = True)\n",
    "k = sp.Symbol('k', real = True, positive = True)\n",
    "a = sp.Symbol('a', real = True)\n",
    "n = sp.Symbol('n', integer = True, nonzero = True)\n",
    "m = sp.Symbol('m', real = True, positive = True)\n",
    "h = sp.Symbol('hbar', real = True, positive = True)\n",
    "t = sp.Symbol('t', real = True, positive = True)\n",
    "psi = sp.Function('\\psi')\n",
    "\n",
    "x, k, a, psi(x), n, m, h, t"
   ]
  },
  {
   "cell_type": "code",
   "execution_count": 38,
   "metadata": {},
   "outputs": [
    {
     "data": {
      "image/png": "[encoded data removed]",
      "text/latex": [
       "$\\displaystyle \\psi{\\left(x \\right)} = C_{1} \\sin{\\left(k x \\right)}$"
      ],
      "text/plain": [
       "\\psi(x) = C₁⋅sin(k⋅x)"
      ]
     },
     "execution_count": 38,
     "metadata": {},
     "output_type": "execute_result"
    }
   ],
   "source": [
    "psi(x).diff(x, x)\n",
    "eq = sp.Eq(psi(x).diff(x, x), -k**2 * psi(x))\n",
    "sol = sp.dsolve(eq, psi(x), ics = {psi(0): 0})\n",
    "sol"
   ]
  },
  {
   "cell_type": "code",
   "execution_count": 39,
   "metadata": {},
   "outputs": [
    {
     "data": {
      "image/png": "[encoded data removed]",
      "text/latex": [
       "$\\displaystyle \\psi{\\left(x \\right)} = C_{1} \\sin{\\left(\\frac{\\pi n x}{a} \\right)}$"
      ],
      "text/plain": [
       "                ⎛π⋅n⋅x⎞\n",
       "\\psi(x) = C₁⋅sin⎜─────⎟\n",
       "                ⎝  a  ⎠"
      ]
     },
     "execution_count": 39,
     "metadata": {},
     "output_type": "execute_result"
    }
   ],
   "source": [
    "sol = sol.subs(k, n * sp.pi / a)\n",
    "sol"
   ]
  },
  {
   "cell_type": "code",
   "execution_count": 40,
   "metadata": {},
   "outputs": [
    {
     "data": {
      "image/png": "[encoded data removed]",
      "text/latex": [
       "$\\displaystyle \\left( \\psi{\\left(x \\right)}, \\  C_{1} \\sin{\\left(\\frac{\\pi n x}{a} \\right)}\\right)$"
      ],
      "text/plain": [
       "⎛               ⎛π⋅n⋅x⎞⎞\n",
       "⎜\\psi(x), C₁⋅sin⎜─────⎟⎟\n",
       "⎝               ⎝  a  ⎠⎠"
      ]
     },
     "execution_count": 40,
     "metadata": {},
     "output_type": "execute_result"
    }
   ],
   "source": [
    "sol.lhs, sol.rhs"
   ]
  },
  {
   "cell_type": "code",
   "execution_count": 41,
   "metadata": {},
   "outputs": [
    {
     "data": {
      "image/png": "[encoded data removed]",
      "text/latex": [
       "$\\displaystyle \\psi{\\left(x \\right)} = \\sqrt{2} \\sqrt{\\frac{1}{a}} \\sin{\\left(\\frac{\\pi n x}{a} \\right)}$"
      ],
      "text/plain": [
       "                 ___           \n",
       "                ╱ 1     ⎛π⋅n⋅x⎞\n",
       "\\psi(x) = √2⋅  ╱  ─ ⋅sin⎜─────⎟\n",
       "             ╲╱   a     ⎝  a  ⎠"
      ]
     },
     "execution_count": 41,
     "metadata": {},
     "output_type": "execute_result"
    }
   ],
   "source": [
    "sp.Symbol('C1')\n",
    "sol = sol.subs(sp.Symbol('C1'), sp.sqrt(2 / a))\n",
    "sol"
   ]
  },
  {
   "attachments": {},
   "cell_type": "markdown",
   "metadata": {},
   "source": [
    "Rozwiązanie:\n",
    "p"
   ]
  },
  {
   "cell_type": "code",
   "execution_count": 42,
   "metadata": {},
   "outputs": [
    {
     "data": {
      "image/png": "[encoded data removed]",
      "text/latex": [
       "$\\displaystyle 0$"
      ],
      "text/plain": [
       "0"
      ]
     },
     "execution_count": 42,
     "metadata": {},
     "output_type": "execute_result"
    }
   ],
   "source": [
    "sp.integrate(sp.conjugate(sol.rhs)*-sp.I*h*sol.rhs.diff(x), (x, 0, a)).simplify()"
   ]
  },
  {
   "attachments": {},
   "cell_type": "markdown",
   "metadata": {},
   "source": [
    "p^2"
   ]
  },
  {
   "cell_type": "code",
   "execution_count": 43,
   "metadata": {},
   "outputs": [
    {
     "data": {
      "image/png": "[encoded data removed]",
      "text/latex": [
       "$\\displaystyle \\frac{\\pi^{2} \\hbar^{2} n^{2} \\sqrt{\\frac{1}{a}} \\overline{\\sqrt{\\frac{1}{a}}}}{a}$"
      ],
      "text/plain": [
       "                 _______\n",
       "             ___     ___\n",
       " 2  2  2    ╱ 1     ╱ 1 \n",
       "π ⋅h̅ ⋅n ⋅  ╱  ─ ⋅  ╱  ─ \n",
       "         ╲╱   a  ╲╱   a \n",
       "────────────────────────\n",
       "           a            "
      ]
     },
     "execution_count": 43,
     "metadata": {},
     "output_type": "execute_result"
    }
   ],
   "source": [
    "sp.integrate(sp.conjugate(sol.rhs)*(-sp.I*h)**2 * sol.rhs.diff(x, 2), (x, 0, a)).simplify()"
   ]
  }
 ],
 "metadata": {
  "kernelspec": {
   "display_name": "Python 3",
   "language": "python",
   "name": "python3"
  },
  "language_info": {
   "codemirror_mode": {
    "name": "ipython",
    "version": 3
   },
   "file_extension": ".py",
   "mimetype": "text/x-python",
   "name": "python",
   "nbconvert_exporter": "python",
   "pygments_lexer": "ipython3",
   "version": "3.10.10"
  },
  "orig_nbformat": 4,
  "vscode": {
   "interpreter": {
    "hash": "383f1ee292db5a98532708b0fbeed2ead0359a36fcb94b92649606fd0c6983e2"
   }
  }
 },
 "nbformat": 4,
 "nbformat_minor": 2
}
